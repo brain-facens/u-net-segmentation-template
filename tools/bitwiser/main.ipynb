{
 "cells": [
  {
   "cell_type": "code",
   "execution_count": null,
   "metadata": {},
   "outputs": [],
   "source": [
    "import os\n",
    "from PIL import Image"
   ]
  },
  {
   "cell_type": "code",
   "execution_count": null,
   "metadata": {},
   "outputs": [],
   "source": [
    "input_dir = './data/masks'\n",
    "output_dir = './output/masks'"
   ]
  },
  {
   "cell_type": "code",
   "execution_count": null,
   "metadata": {},
   "outputs": [],
   "source": [
    "os.makedirs(output_dir, exist_ok=True)\n",
    "\n",
    "for file_name in os.listdir(input_dir):\n",
    "    input_path = os.path.join(input_dir, file_name)\n",
    "    output_path = os.path.join(output_dir, file_name)\n",
    "    \n",
    "    try:\n",
    "        with Image.open(input_path) as img:\n",
    "            img = img.convert('L')\n",
    "            \n",
    "            pixels = img.load()\n",
    "            \n",
    "            for y in range(img.height):\n",
    "                for x in range(img.width):\n",
    "                    if pixels[x, y] > 0:\n",
    "                        pixels[x, y] = 255\n",
    "            \n",
    "            img.save(output_path)\n",
    "            print(f\"Processed: {file_name}\")\n",
    "    except Exception as e:\n",
    "        print(f\"Failed to process {file_name}: {e}\")"
   ]
  }
 ],
 "metadata": {
  "kernelspec": {
   "display_name": "torch",
   "language": "python",
   "name": "python3"
  },
  "language_info": {
   "codemirror_mode": {
    "name": "ipython",
    "version": 3
   },
   "file_extension": ".py",
   "mimetype": "text/x-python",
   "name": "python",
   "nbconvert_exporter": "python",
   "pygments_lexer": "ipython3",
   "version": "3.9.18"
  }
 },
 "nbformat": 4,
 "nbformat_minor": 2
}
